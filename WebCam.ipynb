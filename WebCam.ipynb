{
 "cells": [
  {
   "cell_type": "code",
   "execution_count": 6,
   "metadata": {},
   "outputs": [],
   "source": [
    "import cv2\n",
    "import pytesseract\n",
    "pytesseract.pytesseract.tesseract_cmd = \"C:\\\\Program Files\\\\Tesseract-OCR\\\\tesseract.exe\"  #Setting Binary file"
   ]
  },
  {
   "cell_type": "code",
   "execution_count": 7,
   "metadata": {},
   "outputs": [],
   "source": [
    "def fetching(img):\n",
    "    hImg, wImg,_ = img.shape\n",
    "    boxes = pytesseract.image_to_data(img)                              #fetching words with there cordinates\n",
    "    for x,b in enumerate(boxes.splitlines()):\n",
    "        if x!=0:\n",
    "            b = b.split()\n",
    "            if len(b)==12:\n",
    "                x,y,w,h = int(b[6]),int(b[7]),int(b[8]),int(b[9])\n",
    "                cv2.rectangle(img,(x,y),(w+x,h+y),(0,0,255),3)\n",
    "                cv2.putText(img,b[-1],(x,y),cv2.FONT_HERSHEY_COMPLEX,1,(50,50,255),2)\n",
    "    return img"
   ]
  },
  {
   "cell_type": "code",
   "execution_count": 8,
   "metadata": {},
   "outputs": [],
   "source": [
    "cam = cv2.VideoCapture(\"http://10.20.111.172:8080/video\")\n",
    "while True:\n",
    "    _,img = cam.read()\n",
    "    if _:\n",
    "        img = cv2.cvtColor(img,cv2.COLOR_BGR2RGB)\n",
    "        img = fetching(img)\n",
    "        img = cv2.cvtColor(img,cv2.COLOR_RGB2BGR)\n",
    "        cv2.imshow(\"Checl\",img)\n",
    "        if cv2.waitKey(1)==13:\n",
    "            break\n",
    "cv2.destroyAllWindows()"
   ]
  },
  {
   "cell_type": "code",
   "execution_count": null,
   "metadata": {},
   "outputs": [],
   "source": []
  },
  {
   "cell_type": "code",
   "execution_count": null,
   "metadata": {},
   "outputs": [],
   "source": []
  }
 ],
 "metadata": {
  "kernelspec": {
   "display_name": "Python 3",
   "language": "python",
   "name": "python3"
  },
  "language_info": {
   "codemirror_mode": {
    "name": "ipython",
    "version": 3
   },
   "file_extension": ".py",
   "mimetype": "text/x-python",
   "name": "python",
   "nbconvert_exporter": "python",
   "pygments_lexer": "ipython3",
   "version": "3.7.6"
  }
 },
 "nbformat": 4,
 "nbformat_minor": 4
}

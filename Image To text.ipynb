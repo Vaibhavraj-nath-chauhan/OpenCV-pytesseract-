{
 "cells": [
  {
   "cell_type": "code",
   "execution_count": 1,
   "metadata": {},
   "outputs": [],
   "source": [
    "import cv2\n",
    "import pytesseract\n",
    "pytesseract.pytesseract.tesseract_cmd = \"C:\\\\Program Files\\\\Tesseract-OCR\\\\tesseract.exe\""
   ]
  },
  {
   "cell_type": "code",
   "execution_count": 2,
   "metadata": {},
   "outputs": [
    {
     "name": "stdout",
     "output_type": "stream",
     "text": [
      "POWER SUPPLY\n",
      "\n",
      "THE CALCULATOR IS POWERED BY\n",
      "SOLAR CELL AND A BATTERY FOR\n",
      "BACKUP. THE DISPLAY WILL DIM WHEN\n",
      "THE BATTERY NEEDS TO BE REPLACED.\n",
      "THE \"+\" SIGN OF EACH BATTERY MUST\n",
      "SHOW UPWARD WHEN INSERTED.\n",
      "\f",
      "\n"
     ]
    }
   ],
   "source": [
    "#Img to string\n",
    "img = cv2.imread(\"check.jpg\")\n",
    "img = cv2.cvtColor(img,cv2.COLOR_BGR2RGB)\n",
    "print(pytesseract.image_to_string(img))"
   ]
  },
  {
   "cell_type": "code",
   "execution_count": null,
   "metadata": {},
   "outputs": [],
   "source": []
  }
 ],
 "metadata": {
  "kernelspec": {
   "display_name": "Python 3",
   "language": "python",
   "name": "python3"
  },
  "language_info": {
   "codemirror_mode": {
    "name": "ipython",
    "version": 3
   },
   "file_extension": ".py",
   "mimetype": "text/x-python",
   "name": "python",
   "nbconvert_exporter": "python",
   "pygments_lexer": "ipython3",
   "version": "3.7.6"
  }
 },
 "nbformat": 4,
 "nbformat_minor": 4
}

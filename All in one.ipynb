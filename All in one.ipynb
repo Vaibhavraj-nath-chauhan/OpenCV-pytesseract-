{
 "cells": [
  {
   "cell_type": "code",
   "execution_count": 22,
   "metadata": {},
   "outputs": [],
   "source": [
    "import cv2\n",
    "import pytesseract\n",
    "pytesseract.pytesseract.tesseract_cmd = \"C:\\\\Program Files\\\\Tesseract-OCR\\\\tesseract.exe\"  #Setting Binary file"
   ]
  },
  {
   "cell_type": "markdown",
   "metadata": {},
   "source": [
    "#### Image to String"
   ]
  },
  {
   "cell_type": "code",
   "execution_count": 11,
   "metadata": {},
   "outputs": [],
   "source": [
    "img = cv2.imread(\"check.jpg\")                                   #fetching image             \n",
    "img = cv2.cvtColor(img,cv2.COLOR_BGR2RGB)                       #Converting to RGB\n",
    "print(pytesseract.image_to_string(img))                         #Calling img to string function"
   ]
  },
  {
   "cell_type": "markdown",
   "metadata": {},
   "source": [
    "#### Detecting Character"
   ]
  },
  {
   "cell_type": "code",
   "execution_count": null,
   "metadata": {},
   "outputs": [],
   "source": [
    "img = cv2.imread(\"check.jpg\")\n",
    "img = cv2.cvtColor(img,cv2.COLOR_BGR2RGB)\n",
    "hImg, wImg,_ = img.shape\n",
    "boxes = pytesseract.image_to_boxes(img)                                                #Fetching boxes (Gives 6 values)\n",
    "for b in boxes.splitlines():                                                           #Breacking string at evvey line break\n",
    "    b = b.split(\" \")                                                                   #breaking string at space\n",
    "    x,y,w,h = int(b[1]),int(b[2]),int(b[3]),int(b[4])                                  #Fetching output cordinates\n",
    "    cv2.rectangle(img,(x,hImg -y),(w,hImg-h),(0,0,255),3)                              #Creating box around letters\n",
    "    cv2.putText(img,b[0],(x,hImg-y+25),cv2.FONT_HERSHEY_COMPLEX,1,(50,50,255),2)       #Printing letters\n",
    "    \n",
    "while True:\n",
    "    cv2.imshow(\"Checl\",img)\n",
    "    if cv2.waitKey(1)==13:\n",
    "        break\n",
    "cv2.destroyAllWindows()"
   ]
  },
  {
   "cell_type": "markdown",
   "metadata": {},
   "source": [
    "#### Detecing Words"
   ]
  },
  {
   "cell_type": "code",
   "execution_count": 27,
   "metadata": {},
   "outputs": [],
   "source": [
    "img = cv2.imread(\"check.jpg\")\n",
    "img = cv2.cvtColor(img,cv2.COLOR_BGR2RGB)\n",
    "hImg, wImg,_ = img.shape\n",
    "boxes = pytesseract.image_to_data(img)                              #fetching words with there cordinates\n",
    "for x,b in enumerate(boxes.splitlines()):\n",
    "    if x!=0:\n",
    "        b = b.split()\n",
    "        if len(b)==12:\n",
    "            x,y,w,h = int(b[6]),int(b[7]),int(b[8]),int(b[9])\n",
    "            cv2.rectangle(img,(x,y),(w+x,h+y),(0,0,255),3)\n",
    "            cv2.putText(img,b[-1],(x,y),cv2.FONT_HERSHEY_COMPLEX,1,(50,50,255),2)\n",
    "\n",
    "while True:\n",
    "    cv2.imshow(\"Checl\",img)\n",
    "    if cv2.waitKey(1)==13:\n",
    "        break\n",
    "cv2.destroyAllWindows()"
   ]
  },
  {
   "cell_type": "markdown",
   "metadata": {},
   "source": [
    "#### Detecting Digits"
   ]
  },
  {
   "cell_type": "code",
   "execution_count": 30,
   "metadata": {},
   "outputs": [],
   "source": [
    "img = cv2.imread(\"number.jpg\")\n",
    "img = cv2.cvtColor(img,cv2.COLOR_BGR2RGB)\n",
    "hImg, wImg,_ = img.shape\n",
    "config = r'--oem 3 --psm 6 outputbase digits'                                           #Digits configurations\n",
    "boxes = pytesseract.image_to_data(img,config=config)                                    #passing to tesseract funtion\n",
    "for x,b in enumerate(boxes.splitlines()):\n",
    "    if x!=0:\n",
    "        b = b.split()\n",
    "        if len(b)==12:\n",
    "            x,y,w,h = int(b[6]),int(b[7]),int(b[8]),int(b[9])\n",
    "            cv2.rectangle(img,(x,y),(w+x,h+y),(0,0,255),3)\n",
    "            cv2.putText(img,b[-1],(x,y),cv2.FONT_HERSHEY_COMPLEX,1,(50,50,255),2)\n",
    "\n",
    "while True:\n",
    "    cv2.imshow(\"Checl\",img)\n",
    "    if cv2.waitKey(1)==13:\n",
    "        break\n",
    "cv2.destroyAllWindows()"
   ]
  },
  {
   "cell_type": "code",
   "execution_count": null,
   "metadata": {},
   "outputs": [],
   "source": []
  }
 ],
 "metadata": {
  "kernelspec": {
   "display_name": "Python 3",
   "language": "python",
   "name": "python3"
  },
  "language_info": {
   "codemirror_mode": {
    "name": "ipython",
    "version": 3
   },
   "file_extension": ".py",
   "mimetype": "text/x-python",
   "name": "python",
   "nbconvert_exporter": "python",
   "pygments_lexer": "ipython3",
   "version": "3.7.6"
  }
 },
 "nbformat": 4,
 "nbformat_minor": 4
}

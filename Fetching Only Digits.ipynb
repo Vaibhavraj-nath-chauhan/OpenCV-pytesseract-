{
 "cells": [
  {
   "cell_type": "code",
   "execution_count": 3,
   "metadata": {},
   "outputs": [],
   "source": [
    "import cv2\n",
    "import pytesseract\n",
    "pytesseract.pytesseract.tesseract_cmd = \"C:\\\\Program Files\\\\Tesseract-OCR\\\\tesseract.exe\""
   ]
  },
  {
   "cell_type": "code",
   "execution_count": 6,
   "metadata": {},
   "outputs": [],
   "source": [
    "#Fetching only digits\n",
    "img = cv2.imread(\"number.jpg\")\n",
    "img = cv2.cvtColor(img,cv2.COLOR_BGR2RGB)\n",
    "hImg, wImg,_ = img.shape\n",
    "config = r'--oem 3 --psm 6 outputbase digits'\n",
    "boxes = pytesseract.image_to_data(img,config=config)\n",
    "for x,b in enumerate(boxes.splitlines()):\n",
    "    if x!=0:\n",
    "        b = b.split()\n",
    "        if len(b)==12:\n",
    "            x,y,w,h = int(b[6]),int(b[7]),int(b[8]),int(b[9])\n",
    "            cv2.rectangle(img,(x,y),(w+x,h+y),(0,0,255),3)\n",
    "            cv2.putText(img,b[-1],(x,y),cv2.FONT_HERSHEY_COMPLEX,1,(50,50,255),2)\n",
    "\n",
    "while True:\n",
    "    cv2.imshow(\"Checl\",img)\n",
    "    if cv2.waitKey(1)==13:\n",
    "        break\n",
    "cv2.destroyAllWindows()"
   ]
  },
  {
   "cell_type": "code",
   "execution_count": 7,
   "metadata": {},
   "outputs": [
    {
     "name": "stdout",
     "output_type": "stream",
     "text": [
      "level\tpage_num\tblock_num\tpar_num\tline_num\tword_num\tleft\ttop\twidth\theight\tconf\ttext\n",
      "1\t1\t0\t0\t0\t0\t0\t0\t600\t337\t-1\t\n",
      "2\t1\t1\t0\t0\t0\t28\t27\t541\t280\t-1\t\n",
      "3\t1\t1\t1\t0\t0\t28\t27\t541\t280\t-1\t\n",
      "4\t1\t1\t1\t1\t0\t28\t27\t541\t124\t-1\t\n",
      "5\t1\t1\t1\t1\t1\t28\t27\t541\t124\t96.120346\t12345\n",
      "4\t1\t1\t1\t2\t0\t28\t182\t541\t125\t-1\t\n",
      "5\t1\t1\t1\t2\t1\t28\t182\t541\t125\t96.526627\t67890\n",
      "\n"
     ]
    }
   ],
   "source": [
    "print(boxes)"
   ]
  },
  {
   "cell_type": "code",
   "execution_count": null,
   "metadata": {},
   "outputs": [],
   "source": []
  }
 ],
 "metadata": {
  "kernelspec": {
   "display_name": "Python 3",
   "language": "python",
   "name": "python3"
  },
  "language_info": {
   "codemirror_mode": {
    "name": "ipython",
    "version": 3
   },
   "file_extension": ".py",
   "mimetype": "text/x-python",
   "name": "python",
   "nbconvert_exporter": "python",
   "pygments_lexer": "ipython3",
   "version": "3.7.6"
  }
 },
 "nbformat": 4,
 "nbformat_minor": 4
}
